{
 "cells": [
  {
   "cell_type": "markdown",
   "id": "f9f4f849",
   "metadata": {},
   "source": [
    "1. What is the concept of a metaclass?\n",
    "\n",
    "Ans: Metaclass in Python is a class of a class that defines how a class behaves. A class is itself a instance of Metaclass, and any Instance of Class in Python is an Instance of type metaclass. E.g. Type of of int, str, float, list, tuple and many more is of metaclass type."
   ]
  },
  {
   "cell_type": "code",
   "execution_count": null,
   "id": "d1c4bcaa",
   "metadata": {},
   "outputs": [],
   "source": [
    "class MultiBases(type):\n",
    "    def __new__(cls, clsname, bases, clsdict):\n",
    "        if len(bases)>1:\n",
    "            raise TypeError(\"Inherited multiple base classes!!!\")\n",
    "        return super().__new__(cls, clsname, bases, clsdict)\n",
    "class Base(metaclass=MultiBases):\n",
    "    pass\n",
    "class A(Base):\n",
    "    pass\n",
    "class B(Base):\n",
    "    pass\n",
    "class C(A,B):\n",
    "    pass\n",
    "\n",
    "        "
   ]
  },
  {
   "cell_type": "markdown",
   "id": "7ef34f14",
   "metadata": {},
   "source": [
    "2. What is the best way to declare a class's metaclass?\n",
    "\n",
    "Ans: A way to declare a class’ metaclass is by using metaclass keyword in class definition."
   ]
  },
  {
   "cell_type": "code",
   "execution_count": 3,
   "id": "8c20b017",
   "metadata": {},
   "outputs": [
    {
     "name": "stdout",
     "output_type": "stream",
     "text": [
      "<class 'type'>\n",
      "<class '__main__.meta'>\n"
     ]
    }
   ],
   "source": [
    "class meta(type):\n",
    "    pass\n",
    "class class_meta(metaclass=meta):\n",
    "    pass\n",
    "print(type(meta))\n",
    "print(type(class_meta))"
   ]
  },
  {
   "cell_type": "markdown",
   "id": "8ec984a8",
   "metadata": {},
   "source": [
    "3. How do class decorators overlap with metaclasses for handling classes ?\n",
    "\n",
    "Ans: Anything you can do with a class decorator, you can of course do with a custom metaclasses (just apply the functionality of the \"decorator function\", i.e., the one that takes a class object and modifies it, in the course of the metaclass's __new__ or __init__ that make the class object!)."
   ]
  },
  {
   "cell_type": "markdown",
   "id": "dfa74e2c",
   "metadata": {},
   "source": [
    "4. How do class decorators overlap with metaclasses for handling instances?\n",
    "\n",
    "Ans: Anything you can do with a class decorator, you can of course do with a custom metaclass (just apply the functionality of the \"decorator function\", i.e., the one that takes a class object and modifies it, in the course of the metaclass's __new__ or __init__ that make the class object!)."
   ]
  },
  {
   "cell_type": "code",
   "execution_count": null,
   "id": "3448876e",
   "metadata": {},
   "outputs": [],
   "source": []
  }
 ],
 "metadata": {
  "kernelspec": {
   "display_name": "Python 3 (ipykernel)",
   "language": "python",
   "name": "python3"
  },
  "language_info": {
   "codemirror_mode": {
    "name": "ipython",
    "version": 3
   },
   "file_extension": ".py",
   "mimetype": "text/x-python",
   "name": "python",
   "nbconvert_exporter": "python",
   "pygments_lexer": "ipython3",
   "version": "3.10.9"
  }
 },
 "nbformat": 4,
 "nbformat_minor": 5
}
